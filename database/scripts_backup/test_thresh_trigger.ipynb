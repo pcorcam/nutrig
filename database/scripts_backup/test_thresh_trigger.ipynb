{
 "cells": [
  {
   "cell_type": "code",
   "execution_count": 1,
   "metadata": {},
   "outputs": [
    {
     "name": "stdout",
     "output_type": "stream",
     "text": [
      "Welcome to JupyROOT 6.26/10\n"
     ]
    }
   ],
   "source": [
    "# system\n",
    "import os\n",
    "\n",
    "# scipy\n",
    "import numpy as np\n",
    "from scipy import signal\n",
    "\n",
    "# matplotlib\n",
    "import matplotlib\n",
    "import matplotlib.pyplot as plt\n",
    "\n",
    "# grandlib\n",
    "import grand.dataio.root_trees as rt\n",
    "\n",
    "import tools\n",
    "\n",
    "%matplotlib inline\n",
    "plt.style.use('/pbs/home/p/pcorrea/tools/matplotlib_style_sans-serif.txt')"
   ]
  },
  {
   "cell_type": "code",
   "execution_count": 2,
   "metadata": {},
   "outputs": [],
   "source": [
    "root_file = '/sps/grand/data/gp13/GrandRoot/2024/02/GP13_20240208_142053_RUN125_MD_RAW_10s_ChanXYZ_20dB_12DUs_test_103_dat.root'\n",
    "\n",
    "df   = rt.DataFile(root_file)\n",
    "tadc = df.tadc\n",
    "\n",
    "n_traces = tadc.get_number_of_entries()\n",
    "traces   = np.zeros( (n_traces,3,1024) )\n",
    "\n",
    "for i in range(n_traces):\n",
    "    tadc.get_entry(i)\n",
    "    traces[i] = np.array(tadc.trace_ch[0][1:])"
   ]
  },
  {
   "cell_type": "code",
   "execution_count": null,
   "metadata": {},
   "outputs": [],
   "source": [
    "for trace in traces[:10]:\n",
    "    tools."
   ]
  }
 ],
 "metadata": {
  "kernelspec": {
   "display_name": "grandlib_2304",
   "language": "python",
   "name": "python-3.9"
  },
  "language_info": {
   "codemirror_mode": {
    "name": "ipython",
    "version": 3
   },
   "file_extension": ".py",
   "mimetype": "text/x-python",
   "name": "python",
   "nbconvert_exporter": "python",
   "pygments_lexer": "ipython3",
   "version": "3.9.16"
  }
 },
 "nbformat": 4,
 "nbformat_minor": 2
}
