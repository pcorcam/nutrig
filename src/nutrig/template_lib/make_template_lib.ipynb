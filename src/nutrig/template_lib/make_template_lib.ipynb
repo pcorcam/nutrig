{
 "cells": [
  {
   "cell_type": "code",
   "execution_count": null,
   "metadata": {},
   "outputs": [],
   "source": [
    "# system\n",
    "import glob\n",
    "import os\n",
    "\n",
    "# scipy\n",
    "import numpy as np\n",
    "\n",
    "# matplotlib\n",
    "import matplotlib\n",
    "import matplotlib.pyplot as plt\n",
    "\n",
    "# analysis tools\n",
    "from template_lib.tools import *\n",
    "\n",
    "%matplotlib inline\n",
    "plt.style.use('tableau-colorblind10')\n",
    "plt.style.use('/pbs/home/p/pcorrea/tools/matplotlib_style_sans-serif.txt')"
   ]
  },
  {
   "cell_type": "code",
   "execution_count": null,
   "metadata": {},
   "outputs": [],
   "source": [
    "primary  = 'proton'\n",
    "rf_chain = 'rfv2'\n",
    "thresh   = 75\n",
    "pol      = 'XY'\n",
    "plot_dir = '/pbs/home/p/pcorrea/grand/nutrig/plots/'\n",
    "savefig  = False"
   ]
  },
  {
   "cell_type": "code",
   "execution_count": null,
   "metadata": {},
   "outputs": [],
   "source": [
    "file_dir = '/sps/grand/pcorrea/nutrig/template/v1/pulse_shape_analysis/{}_thresh_{}/'.format(rf_chain,thresh)\n",
    "files    = sorted( glob.glob(file_dir+'*_{}_*.npz'.format(primary)) )\n",
    "\n",
    "vf_dir = '/sps/grand/pcorrea/nutrig/sim/v1/zhaires/voltage_{}/'.format(rf_chain)"
   ]
  },
  {
   "cell_type": "code",
   "execution_count": null,
   "metadata": {},
   "outputs": [],
   "source": [
    "energy       = np.empty(1,dtype=float)\n",
    "zenith       = np.empty(1,dtype=float)\n",
    "azimuth      = np.empty(1,dtype=float)\n",
    "omega        = np.empty(1,dtype=float)\n",
    "omega_c      = np.empty(1,dtype=float)\n",
    "\n",
    "peak_to_peak = np.empty((1,3),dtype=float)\n",
    "n_peaks      = np.empty((1,3),dtype=float)\n",
    "pulse_width  = np.empty((1,3),dtype=float)\n",
    "peak_ratio   = np.empty((1,3),dtype=float)\n",
    "peak_dist    = np.empty((1,3),dtype=float)\n",
    "\n",
    "du_idx       = np.empty(1,dtype=int)\n",
    "vfile        = np.empty(1,dtype='<U60')\n",
    "\n",
    "for file in files[:]:\n",
    "    f            = np.load(file)\n",
    "\n",
    "    energy       = np.hstack((energy,f['energy']))\n",
    "    zenith       = np.hstack((zenith,f['zenith']))\n",
    "    azimuth      = np.hstack((azimuth,f['azimuth']))\n",
    "    omega        = np.hstack((omega,f['omega']))\n",
    "    omega_c      = np.hstack((omega_c,f['omega_c']))\n",
    "\n",
    "    peak_to_peak = np.vstack((peak_to_peak,f['peak_to_peak']))\n",
    "    n_peaks      = np.vstack((n_peaks,f['n_peaks']))\n",
    "    pulse_width  = np.vstack((pulse_width,f['pulse_width']))\n",
    "    peak_ratio   = np.vstack((peak_ratio,f['peak_ratio']))\n",
    "    peak_dist    = np.vstack((peak_dist,f['peak_dist']))\n",
    "\n",
    "    du_idx       = np.hstack((du_idx,f['du_idx']))\n",
    "    vfile        = np.hstack((vfile,f['vfile']))\n",
    "\n",
    "energy       = energy[1:]\n",
    "zenith       = zenith[1:]\n",
    "azimuth      = azimuth[1:]\n",
    "omega        = omega[1:]\n",
    "omega_c      = omega_c[1:]\n",
    "\n",
    "peak_to_peak = peak_to_peak[1:]\n",
    "n_peaks      = n_peaks[1:]\n",
    "pulse_width  = pulse_width[1:]\n",
    "peak_ratio   = peak_ratio[1:]\n",
    "peak_dist    = peak_dist[1:]\n",
    "\n",
    "du_idx       = du_idx[1:]\n",
    "vfile        = vfile[1:]"
   ]
  },
  {
   "cell_type": "markdown",
   "metadata": {},
   "source": [
    "## Template selection"
   ]
  },
  {
   "cell_type": "markdown",
   "metadata": {},
   "source": [
    "Energy only affects the amplitude. To have the highest number of sampled ADC points, we only select showers with $E > 1$ EeV."
   ]
  },
  {
   "cell_type": "code",
   "execution_count": null,
   "metadata": {},
   "outputs": [],
   "source": [
    "mask = np.where(energy>1e9)[0]\n",
    "\n",
    "energy       = energy[mask]\n",
    "zenith       = zenith[mask]\n",
    "azimuth      = azimuth[mask]\n",
    "omega        = omega[mask]\n",
    "omega_c      = omega_c[mask]\n",
    "\n",
    "peak_to_peak = peak_to_peak[mask]\n",
    "n_peaks      = n_peaks[mask]\n",
    "pulse_width  = pulse_width[mask]\n",
    "peak_ratio   = peak_ratio[mask]\n",
    "peak_dist    = peak_dist[mask]\n",
    "\n",
    "du_idx       = du_idx[mask]\n",
    "vfile        = vfile[mask]"
   ]
  },
  {
   "cell_type": "markdown",
   "metadata": {},
   "source": [
    "Need to treat $XY$ and $Z$ polarizations separately. Make the choice here."
   ]
  },
  {
   "cell_type": "code",
   "execution_count": null,
   "metadata": {},
   "outputs": [],
   "source": [
    "if pol == 'XY':\n",
    "    mask_pol = np.where( np.logical_or( n_peaks[:,0], n_peaks[:,1] ) )[0]\n",
    "elif pol == 'Z':\n",
    "    mask_pol = np.where( n_peaks[:,2] )[0]\n",
    "\n",
    "energy      = energy[mask_pol]\n",
    "zenith      = zenith[mask_pol]\n",
    "azimuth     = azimuth[mask_pol]\n",
    "omega       = omega[mask_pol]\n",
    "omega_c     = omega_c[mask_pol]\n",
    "\n",
    "peak_to_peak = peak_to_peak[mask_pol]\n",
    "n_peaks      = n_peaks[mask_pol]\n",
    "pulse_width  = pulse_width[mask_pol]\n",
    "peak_ratio   = peak_ratio[mask_pol]\n",
    "peak_dist    = peak_dist[mask_pol]\n",
    "\n",
    "du_idx      = du_idx[mask_pol]\n",
    "vfile       = vfile[mask_pol]"
   ]
  },
  {
   "cell_type": "markdown",
   "metadata": {},
   "source": [
    "Variations with zenith come from the fact that the Cherenkov angle $\\omega_c(\\theta)$ is zenith-dependent.\n",
    "\n",
    "The main variation in the pulse shape, a \"stretch\" in time, comes from where you observe w.r.t. $\\omega_c$. At $\\omega_c$, the emission is the most peaked (smallest stretch), and the stretch increases as you move away from $\\omega_c$.\n",
    "\n",
    "By considering $|\\omega-\\omega_c|/\\omega_c$, we have a handle on this stretch that takes into account the zenith dependence of $\\omega_c$."
   ]
  },
  {
   "cell_type": "code",
   "execution_count": null,
   "metadata": {},
   "outputs": [],
   "source": [
    "omega_diff = np.abs(omega-omega_c)/omega_c\n",
    "\n",
    "fig, ax = plt.subplots()\n",
    "\n",
    "ax.hist(omega_diff,bins=30)\n",
    "\n",
    "ax.set_yscale('log')\n",
    "\n",
    "ax.set_xlabel(r'$|\\omega-\\omega_c|/\\omega_c$')\n",
    "ax.set_ylabel('Counts')\n",
    "\n",
    "ax.set_title(f'{primary}, {rf_chain}, ' + r'$E>1$ EeV, ' + f'{pol}' + r' $> 75$ ADC')\n",
    "\n",
    "plt.show()"
   ]
  },
  {
   "cell_type": "markdown",
   "metadata": {},
   "source": [
    "In the selected DUs of the simulations, we expect that as the zenith becomes more horizontal, the distribution of $\\omega$ (centered around $\\omega_c$) will become more narrow. This is due to the fact that the footprint becomes much larger for horizontal showers."
   ]
  },
  {
   "cell_type": "code",
   "execution_count": null,
   "metadata": {},
   "outputs": [],
   "source": [
    "zenith_edges = np.linspace(40,90,6)\n",
    "\n",
    "fig, ax = plt.subplots()\n",
    "\n",
    "for i in range(len(zenith_edges[:-1])):\n",
    "    mask = np.where(np.logical_and(zenith>zenith_edges[i],zenith<zenith_edges[i+1]))[0]\n",
    "    \n",
    "    label = r'$' + '{:.0f}'.format(zenith_edges[i]) + r'^{\\circ}< \\theta <' + '{:.0f}'.format(zenith_edges[i+1]) + r'^{\\circ}$'\n",
    "    ax.hist(omega_diff[mask],bins=30,density=True,alpha=.5,label=label)\n",
    "\n",
    "    ax.set_yscale('log')\n",
    "\n",
    "    ax.set_xlabel(r'$|\\omega-\\omega_c|/\\omega_c$')\n",
    "    ax.set_ylabel('PDF')\n",
    "\n",
    "    ax.set_title(f'{primary}, ' + r'$E>1$ EeV, ' + f'{pol}' + r' $> 75$ ADC')\n",
    "\n",
    "    ax.legend(frameon=True,fontsize=15)\n",
    "\n",
    "plt.show()"
   ]
  },
  {
   "cell_type": "code",
   "execution_count": null,
   "metadata": {},
   "outputs": [],
   "source": [
    "zenith_edges = np.linspace(40,90,6)\n",
    "\n",
    "fig, ax = plt.subplots()\n",
    "\n",
    "for i in range(len(zenith_edges[:-1])):\n",
    "    mask = np.where(np.logical_and(zenith>zenith_edges[i],zenith<zenith_edges[i+1]))[0]\n",
    "    \n",
    "    label = r'$' + '{:.0f}'.format(zenith_edges[i]) + r'^{\\circ}< \\theta <' + '{:.0f}'.format(zenith_edges[i+1]) + r'^{\\circ}$'\n",
    "    ax.hist(omega_diff[mask],bins=30,density=True,alpha=.5,cumulative=True,label=label)\n",
    "\n",
    "    #ax.set_yscale('log')\n",
    "\n",
    "    ax.set_xlabel(r'$|\\omega-\\omega_c|/\\omega_c$')\n",
    "    ax.set_ylabel('CDF')\n",
    "\n",
    "    ax.set_title(f'{primary}, ' + r'$E>1$ EeV, ' + f'{pol}' + r' $> 75$ ADC')\n",
    "\n",
    "    ax.legend(frameon=True,fontsize=15,loc='lower right')\n",
    "\n",
    "plt.show()"
   ]
  },
  {
   "cell_type": "markdown",
   "metadata": {},
   "source": [
    "Plots above indicate that most of the interesting traces have $|\\omega-\\omega_c|/\\omega_c < 2$. As such, we randomly select $20 \\times 5$ traces binned uniformly in $|\\omega-\\omega_c|/\\omega_c \\in [0,2]$ (20 bins with width of 0.2) and in the simulated zenith range $\\theta \\in [31^\\circ,87^\\circ]$ (5 bins with width $11.2^\\circ$)."
   ]
  },
  {
   "cell_type": "code",
   "execution_count": null,
   "metadata": {},
   "outputs": [],
   "source": [
    "zenith_edges     = np.linspace(np.min(zenith),np.max(zenith),11)\n",
    "omega_diff_edges = np.linspace(0,2,11)\n",
    "\n",
    "fig, ax = plt.subplots()\n",
    "\n",
    "hist2d = ax.hist2d(zenith,\n",
    "                   omega_diff,\n",
    "                   bins=[zenith_edges,omega_diff_edges],\n",
    "                   cmap='Blues',\n",
    "                   norm=matplotlib.colors.LogNorm())\n",
    "\n",
    "fig.colorbar(hist2d[3], ax=ax, label='Counts')\n",
    "\n",
    "ax.set_xlabel(r'$\\theta$ [deg]')\n",
    "ax.set_ylabel(r'$|\\omega-\\omega_c|/\\omega_c$')\n",
    "\n",
    "ax.set_title(f'{primary.capitalize()}, ' + r'$E>1$ EeV, ' + f'{pol}' + r' $> 75$ ADC')\n",
    "\n",
    "ax.text(35,1.7,'GRAND preliminary', color='crimson')\n",
    "\n",
    "ax.grid(True)\n",
    "\n",
    "if savefig:\n",
    "    plot_name = 'templates_XY_theta_omega'\n",
    "    \n",
    "    plt.savefig( os.path.join(plot_dir,plot_name+'.png') )\n",
    "    plt.savefig( os.path.join(plot_dir,plot_name+'.pdf') )\n",
    "\n",
    "plt.show()"
   ]
  },
  {
   "cell_type": "markdown",
   "metadata": {},
   "source": [
    "Here we perform the selection. In each bin of the plot above, we chose a random trace as template."
   ]
  },
  {
   "cell_type": "code",
   "execution_count": null,
   "metadata": {},
   "outputs": [],
   "source": [
    "seed = int(2e5) # for GRAND200k! :)\n",
    "np.random.seed(seed)\n",
    "\n",
    "n_bins_zenith = len(zenith_edges)-1\n",
    "n_bins_omega  = len(omega_diff_edges)-1\n",
    "mask_sel      = np.zeros((n_bins_zenith,n_bins_omega),dtype=int)\n",
    "\n",
    "\n",
    "for i in range(n_bins_zenith):\n",
    "    mask_zenith = np.where( np.logical_and( zenith >= zenith_edges[i], zenith < zenith_edges[i+1] ) )[0]\n",
    "\n",
    "    for j in range(n_bins_omega):\n",
    "        mask_omega = np.where( np.logical_and( omega_diff[mask_zenith] >= omega_diff_edges[j], omega_diff[mask_zenith] < omega_diff_edges[j+1] ) )[0]\n",
    "\n",
    "        if mask_omega.size > 0:\n",
    "            mask_sel[i,j] = np.random.choice(mask_zenith[mask_omega])\n",
    "            #print(zenith[mask_sel[i,j]],omega_diff[mask_sel[i,j]])\n",
    "\n",
    "mask_sel = mask_sel[mask_sel>0].flatten()\n",
    "\n",
    "\n",
    "fig, ax = plt.subplots()\n",
    "\n",
    "hist2d = ax.hist2d(zenith[mask_sel],\n",
    "                   omega_diff[mask_sel],\n",
    "                   bins=[zenith_edges,omega_diff_edges],\n",
    "                   cmap='Blues')\n",
    "\n",
    "fig.colorbar(hist2d[3], ax=ax, label='Counts')\n",
    "\n",
    "ax.set_xlabel(r'$\\theta$ [deg]')\n",
    "ax.set_ylabel(r'$|\\omega-\\omega_c|/\\omega_c$')\n",
    "\n",
    "ax.set_title(f'{primary}, ' + r'$E>1$ EeV, ' + f'{pol}' + r' $> 75$ ADC')\n",
    "\n",
    "\n",
    "bin_centers_zenith = (zenith_edges[:-1] + zenith_edges[1:])/2\n",
    "bin_centers_omega  = (omega_diff_edges[:-1] + omega_diff_edges[1:])/2\n",
    "k = 0\n",
    "for i, bin_zenith in enumerate(bin_centers_zenith):\n",
    "    for j, bin_omega in enumerate(bin_centers_omega):\n",
    "        if hist2d[0][i,j] != 0:\n",
    "            ax.text(bin_zenith,bin_omega,k,fontsize=12,va='center',ha='center',color='w')\n",
    "            k += 1\n",
    "\n",
    "ax.grid(False)\n",
    "\n",
    "plt.show()"
   ]
  },
  {
   "cell_type": "markdown",
   "metadata": {},
   "source": [
    "Now it's time to actually select the template traces and save them. We only save a window $w = [t_{\\max}-30,t_{\\max}+70]$ of 100 samples (200 ns) of a template, where $t_{\\max}$ is the time where the absolute value of the trace is maximal.\n",
    "\n",
    "Each template is normalized by its RMS within the selected window.\n",
    "\n",
    "Keep the ADC templates at a sampling rate of 2 Gsps for more resolution (can desample afterwards)."
   ]
  },
  {
   "cell_type": "code",
   "execution_count": null,
   "metadata": {},
   "outputs": [],
   "source": [
    "t_minus_peak = 30*4 # [ADC samples]\n",
    "t_plus_peak  = 70*4\n",
    "templates    = np.empty((mask_sel.size,t_minus_peak+t_plus_peak))"
   ]
  },
  {
   "cell_type": "code",
   "execution_count": null,
   "metadata": {},
   "outputs": [],
   "source": [
    "def rms(trace):\n",
    "    return np.sqrt( np.mean( trace**2 ) )"
   ]
  },
  {
   "cell_type": "code",
   "execution_count": null,
   "metadata": {},
   "outputs": [],
   "source": [
    "for k,idx in enumerate(mask_sel[:]):\n",
    "    tvoltage = rt.TVoltage(vf_dir+vfile[idx])\n",
    "    tvoltage.get_entry(0)\n",
    "\n",
    "    trace = digitize( np.array(tvoltage.trace[int(du_idx[idx])]), adc_sampling_rate=2000, quantize=False ) # optional argument to not desample\n",
    "\n",
    "    if pol == 'XY':\n",
    "        max_x = np.max( np.abs(trace[0,:]) )\n",
    "        max_y = np.max( np.abs(trace[1,:]) )\n",
    "        pol_idx = np.argmax( [max_x,max_y] )\n",
    "    if pol == 'Z':\n",
    "        pol_idx = 2\n",
    "\n",
    "    trace   = trace[pol_idx,:]\n",
    "    max_pos = np.argmax(np.abs(trace))\n",
    "    trace   = trace[max_pos-t_minus_peak:max_pos+t_plus_peak]\n",
    "\n",
    "    msg  = 'log10(E/GeV) = {:.2f}, '.format(np.log10(energy[idx]))\n",
    "    msg += 'theta = {:.2f} deg, '.format(zenith[idx])\n",
    "    msg += 'phi = {:.2f} deg, '.format(azimuth[idx])\n",
    "    msg += 'omega = {:.3f} deg, '.format(omega[idx])\n",
    "    msg += 'omega_c = {:.3f} deg, '.format(omega_c[idx])\n",
    "    msg += '|omega-omega_c|/omega_c = {:.3f} \\n'.format(omega_diff[idx])\n",
    "    msg += 'Vpp = {} ADC counts, '.format(peak_to_peak[idx])\n",
    "    msg += 'pulse_width = {} ADC samples, '.format(pulse_width[idx])\n",
    "    msg += 'n_peaks = {}, '.format(n_peaks[idx])\n",
    "    msg += 'peak_ratio = {}, '.format(peak_ratio[idx])\n",
    "    msg += 'peak_dist = {} ADC samples'.format(peak_dist[idx])\n",
    "\n",
    "    print(msg)\n",
    "\n",
    "\n",
    "    fig, ax = plt.subplots()\n",
    "\n",
    "    ax.plot(trace)\n",
    "    \n",
    "    ax.set_xlabel('Samples of 0.5 ns')\n",
    "    ax.set_ylabel('ADC counts')\n",
    "\n",
    "    title  = f'Channel {pol_idx}, ' + r'$\\log_{10}(E/\\mathrm{GeV}) = ' + '{:.2f}'.format(np.log10(energy[idx]))\n",
    "    title += r',~ \\theta =' + '{:.2f}'.format(zenith[idx]) + r'^\\circ,~ \\phi = ' + '{:.2f}'.format(azimuth[idx])\n",
    "    title += r'^\\circ,~ |\\omega-\\omega_c|/\\omega_c = ' + '{:.3f}'.format(omega_diff[idx]) + '$'\n",
    "\n",
    "    ax.set_title(title,fontsize=15)\n",
    "\n",
    "    plt.show()\n",
    "\n",
    "\n",
    "    trace /= rms(trace)\n",
    "    templates[k] = trace\n",
    "\n",
    "    tvoltage.stop_using()\n",
    "    tvoltage.close_file()"
   ]
  },
  {
   "cell_type": "code",
   "execution_count": null,
   "metadata": {},
   "outputs": [],
   "source": [
    "lib_path  = '/sps/grand/pcorrea/nutrig/template/v1/lib/'\n",
    "lib_name  = 'templates_{}_{}_{}.npz'.format(len(templates),pol,rf_chain)\n",
    "meta_name = 'metadata_{}_{}_{}.npz'.format(len(templates),pol,rf_chain)"
   ]
  },
  {
   "cell_type": "code",
   "execution_count": null,
   "metadata": {},
   "outputs": [],
   "source": [
    "np.savez(lib_path+lib_name,\n",
    "         templates=templates)\n",
    "\n",
    "np.savez(lib_path+meta_name,\n",
    "         energy=energy[mask_sel],\n",
    "         zenith=zenith[mask_sel],\n",
    "         azimuth=azimuth[mask_sel],\n",
    "         omega=omega[mask_sel],\n",
    "         omega_c=omega_c[mask_sel],\n",
    "         omega_diff=omega_diff[mask_sel],\n",
    "         vf=vfile[mask_sel],\n",
    "         du_idx=du_idx[mask_sel])"
   ]
  },
  {
   "cell_type": "markdown",
   "metadata": {},
   "source": [
    "## Template analysis"
   ]
  },
  {
   "cell_type": "code",
   "execution_count": null,
   "metadata": {},
   "outputs": [],
   "source": [
    "pol = 'XY'\n",
    "rf_chain = 'rfv2'\n",
    "n_templates = 96\n",
    "savefig = False\n",
    "\n",
    "lib_path  = '/sps/grand/pcorrea/nutrig/template/v1/lib/'\n",
    "lib_name  = 'templates_{}_{}_{}.npz'.format(n_templates,pol,rf_chain)\n",
    "meta_name = 'metadata_{}_{}_{}.npz'.format(n_templates,pol,rf_chain)\n",
    "\n",
    "f = np.load(lib_path+lib_name)\n",
    "templates = f['templates']\n",
    "\n",
    "try:\n",
    "    template_ids = f['template_ids']\n",
    "except:\n",
    "    template_ids = np.arange(n_templates)\n",
    "\n",
    "f = np.load(lib_path+meta_name)\n",
    "energy     = f['energy']\n",
    "zenith     = f['zenith']\n",
    "azimuth    = f['azimuth']\n",
    "omega      = f['omega']\n",
    "omega_c    = f['omega_c']\n",
    "omega_diff = f['omega_diff']\n",
    "vf         = f['vf']\n",
    "du_idx     = f['du_idx']"
   ]
  },
  {
   "cell_type": "markdown",
   "metadata": {},
   "source": [
    "### Save as txt file"
   ]
  },
  {
   "cell_type": "code",
   "execution_count": null,
   "metadata": {},
   "outputs": [],
   "source": [
    "txt_file = lib_path+lib_name.replace('.npz','.txt')\n",
    "\n",
    "header  = '***TEMPLATE SELECTION FOR NUTRIG FLT STUDY***\\n'\n",
    "header += '***Normalized such that RMS(template) = 1***\\n'\n",
    "header += f'Number of templates (=rows): {n_templates}\\n'\n",
    "header += f'Number of samples of .5 ns per template (=columns): {templates.shape[-1]}\\n'\n",
    "header += f'RF chain used to generate templates with GRANDlib: {rf_chain}\\n\\n'\n",
    "\n",
    "np.savetxt(txt_file,templates,fmt='%.6e',header=header)"
   ]
  },
  {
   "cell_type": "code",
   "execution_count": null,
   "metadata": {},
   "outputs": [],
   "source": [
    "fig, ax = plt.subplots()\n",
    "\n",
    "ids = [9,17,82,31,25]#[9,19,72]#[9,19,29,39,49,59,69,79]#[74,79]\n",
    "\n",
    "for id in ids:\n",
    "    ax.plot(templates[id],label=id)\n",
    "\n",
    "ax.set_xlabel('Samples of 0.5 ns')\n",
    "ax.set_ylabel('Normalized amplitude')\n",
    "\n",
    "ax.set_title(f'Polarization {pol}')\n",
    "\n",
    "#ax.text(230,6,'GRAND preliminary', color='crimson')\n",
    "\n",
    "if savefig:\n",
    "    plot_name = 'templates_XY'\n",
    "    \n",
    "    plt.savefig( os.path.join(plot_dir,plot_name+'.png') )\n",
    "    plt.savefig( os.path.join(plot_dir,plot_name+'.pdf') )\n",
    "\n",
    "ax.legend(frameon=True)\n",
    "\n",
    "plt.show()"
   ]
  },
  {
   "cell_type": "code",
   "execution_count": null,
   "metadata": {},
   "outputs": [],
   "source": [
    "fig, ax = plt.subplots()\n",
    "\n",
    "ax.plot(templates.T)\n",
    "\n",
    "ax.set_xlabel('Samples of 0.5 ns')\n",
    "ax.set_ylabel('Normalized amplitude')\n",
    "\n",
    "ax.set_title(f'Polarization {pol}, {len(templates)} templates')\n",
    "\n",
    "#ax.text(230,6,'GRAND preliminary', color='crimson')\n",
    "\n",
    "if savefig:\n",
    "    plot_name = 'templates_XY'\n",
    "    \n",
    "    plt.savefig( os.path.join(plot_dir,plot_name+'.png') )\n",
    "    plt.savefig( os.path.join(plot_dir,plot_name+'.pdf') )\n",
    "\n",
    "plt.show()"
   ]
  },
  {
   "cell_type": "markdown",
   "metadata": {},
   "source": [
    " Make a consistency check to see whether the cross correlation of the templates is maximal when the templates are identical. Also gives us an idea of how \"different\" the different templates are."
   ]
  },
  {
   "cell_type": "code",
   "execution_count": null,
   "metadata": {},
   "outputs": [],
   "source": [
    "corr_grid = np.zeros((len(templates),len(templates)))\n",
    "\n",
    "for i, template_1 in enumerate(templates):\n",
    "    #norm = np.correlate(template_1**2,template_1**2)\n",
    "\n",
    "    for j, template_2 in enumerate(templates):\n",
    "        corr = np.correlate(template_1,template_2) / len(template_1)\n",
    "\n",
    "        corr_grid[i,j] = corr #/norm\n",
    "\n",
    "print(np.median(corr_grid))"
   ]
  },
  {
   "cell_type": "code",
   "execution_count": null,
   "metadata": {},
   "outputs": [],
   "source": [
    "template_id = np.arange(1,len(templates)+1)\n",
    "x, y = np.meshgrid(template_id,template_id)"
   ]
  },
  {
   "cell_type": "code",
   "execution_count": null,
   "metadata": {},
   "outputs": [],
   "source": [
    "fig, ax = plt.subplots()\n",
    "#fig.set_size_inches(10,10)\n",
    "\n",
    "corr_plot = plt.pcolormesh(x,\n",
    "                           y,\n",
    "                           np.abs(corr_grid),\n",
    "                           cmap='Blues',\n",
    "                           vmin=0,\n",
    "                           vmax=1\n",
    "                           #norm=matplotlib.colors.LogNorm()\n",
    "                           )\n",
    "\n",
    "fig.colorbar(corr_plot, ax=ax, label=r'$|\\rho|$')\n",
    "\n",
    "lim = [0,len(templates)+1]\n",
    "ax.set_xlim(lim)\n",
    "ax.set_ylim(lim)\n",
    "\n",
    "label = 'Template ID'\n",
    "ax.set_xlabel(label)\n",
    "ax.set_ylabel(label)\n",
    "\n",
    "ax.grid(True)\n",
    "\n",
    "plt.show()"
   ]
  },
  {
   "cell_type": "code",
   "execution_count": null,
   "metadata": {},
   "outputs": [],
   "source": [
    "np.argmax(corr_grid,axis=1)"
   ]
  },
  {
   "cell_type": "code",
   "execution_count": null,
   "metadata": {},
   "outputs": [],
   "source": [
    "vf[81]"
   ]
  },
  {
   "cell_type": "code",
   "execution_count": null,
   "metadata": {},
   "outputs": [],
   "source": []
  }
 ],
 "metadata": {
  "kernelspec": {
   "display_name": "grandlib_2409",
   "language": "python",
   "name": "python-3.11_grandlib-2409"
  },
  "language_info": {
   "codemirror_mode": {
    "name": "ipython",
    "version": 3
   },
   "file_extension": ".py",
   "mimetype": "text/x-python",
   "name": "python",
   "nbconvert_exporter": "python",
   "pygments_lexer": "ipython3",
   "version": "3.11.9"
  }
 },
 "nbformat": 4,
 "nbformat_minor": 2
}
