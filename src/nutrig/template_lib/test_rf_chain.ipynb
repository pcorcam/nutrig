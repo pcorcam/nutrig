{
 "cells": [
  {
   "cell_type": "code",
   "execution_count": null,
   "metadata": {},
   "outputs": [],
   "source": [
    "# scipy\n",
    "import numpy as np\n",
    "\n",
    "# matplotlib\n",
    "import matplotlib.pyplot as plt\n",
    "\n",
    "# grandlib\n",
    "import grand.dataio.root_trees as rt\n",
    "from grand.sim.detector.rf_chain2 import RFChain, RFChainNut\n",
    "\n",
    "\n",
    "%matplotlib inline\n",
    "plt.style.use('/pbs/home/p/pcorrea/tools/matplotlib_style_sans-serif.txt')"
   ]
  },
  {
   "cell_type": "code",
   "execution_count": null,
   "metadata": {},
   "outputs": [],
   "source": [
    "rf_chain     = RFChain()\n",
    "rf_chain_nut = RFChainNut()"
   ]
  },
  {
   "cell_type": "code",
   "execution_count": null,
   "metadata": {},
   "outputs": [],
   "source": [
    "freqs_mhz = np.arange(1,300,1)\n",
    "\n",
    "rf_chain.compute_for_freqs(freqs_mhz)\n",
    "rf_chain_nut.compute_for_freqs(freqs_mhz)"
   ]
  },
  {
   "cell_type": "code",
   "execution_count": null,
   "metadata": {},
   "outputs": [],
   "source": [
    "tf      = rf_chain.get_tf()\n",
    "tf_nut  = rf_chain_nut.get_tf()"
   ]
  },
  {
   "cell_type": "code",
   "execution_count": null,
   "metadata": {},
   "outputs": [],
   "source": [
    "arms = ['X','Y','Z']\n",
    "\n",
    "for i in range(len(tf)):\n",
    "    plt.plot(freqs_mhz,np.abs(tf[i]))\n",
    "    plt.xlabel('Frequency [MHz]')\n",
    "    plt.ylabel(f'TF {arms[i]}')\n",
    "    plt.show()"
   ]
  },
  {
   "cell_type": "code",
   "execution_count": null,
   "metadata": {},
   "outputs": [],
   "source": [
    "arms = ['X','Y','Z']\n",
    "\n",
    "for i in range(len(tf_nut)):\n",
    "    plt.plot(freqs_mhz,np.abs(tf_nut[i]))\n",
    "    plt.xlabel('Frequency [MHz]')\n",
    "    plt.ylabel(f'TF nut {arms[i]}')\n",
    "    plt.show()"
   ]
  },
  {
   "cell_type": "code",
   "execution_count": null,
   "metadata": {},
   "outputs": [],
   "source": [
    "for val in tf[0]:\n",
    "    print(abs(val))"
   ]
  },
  {
   "cell_type": "code",
   "execution_count": null,
   "metadata": {},
   "outputs": [],
   "source": []
  }
 ],
 "metadata": {
  "kernelspec": {
   "display_name": "grandlib_2304",
   "language": "python",
   "name": "python-3.9"
  },
  "language_info": {
   "codemirror_mode": {
    "name": "ipython",
    "version": 3
   },
   "file_extension": ".py",
   "mimetype": "text/x-python",
   "name": "python",
   "nbconvert_exporter": "python",
   "pygments_lexer": "ipython3",
   "version": "3.9.16"
  }
 },
 "nbformat": 4,
 "nbformat_minor": 2
}
