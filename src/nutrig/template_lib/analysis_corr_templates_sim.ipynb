{
 "cells": [
  {
   "cell_type": "code",
   "execution_count": null,
   "metadata": {},
   "outputs": [],
   "source": [
    "# system\n",
    "import glob\n",
    "import os\n",
    "\n",
    "# scipy\n",
    "import numpy as np\n",
    "\n",
    "# matplotlib\n",
    "import matplotlib.pyplot as plt\n",
    "\n",
    "\n",
    "%matplotlib inline\n",
    "plt.style.use('tableau-colorblind10')\n",
    "plt.style.use('/pbs/home/p/pcorrea/tools/matplotlib_style_sans-serif.txt')"
   ]
  },
  {
   "cell_type": "code",
   "execution_count": null,
   "metadata": {},
   "outputs": [],
   "source": [
    "corr_dir    = '/sps/grand/pcorrea/nutrig/template/v1/corr_sim/'\n",
    "\n",
    "sim         = 'zhaires'\n",
    "primary     = 'proton'\n",
    "thresh      = 30\n",
    "rf_chain    = 'rfv2'\n",
    "n_templates = 96\n",
    "\n",
    "corr_filename = f'corr_templates_{n_templates}_sim_{sim}_{primary}_thresh_{thresh}_{rf_chain}_*.npz'\n",
    "\n",
    "corr_files = sorted( glob.glob( os.path.join(corr_dir,corr_filename) ) )"
   ]
  },
  {
   "cell_type": "code",
   "execution_count": null,
   "metadata": {},
   "outputs": [],
   "source": [
    "corr_bin_edges = np.arange(0,2,.05)\n",
    "corr_hists_x   = np.zeros( (corr_bin_edges.shape[0]-1,n_templates) )\n",
    "corr_hists_y   = np.zeros( (corr_bin_edges.shape[0]-1,n_templates) )\n",
    "\n",
    "corr_x = np.zeros((0,96,))\n",
    "corr_y = np.zeros((0,96,))\n",
    "\n",
    "for corr_file in corr_files[:]:\n",
    "    print('Loading file',corr_file)\n",
    "    with np.load(corr_file) as f:\n",
    "        new_corr_x = f['corr_x']\n",
    "        new_corr_y = f['corr_y']\n",
    "\n",
    "    for i in range(n_templates):\n",
    "        new_hist_x = np.histogram(new_corr_x[:,i],bins=corr_bin_edges)[0]\n",
    "        new_hist_y = np.histogram(new_corr_y[:,i],bins=corr_bin_edges)[0]\n",
    "\n",
    "        corr_hists_x[:,i] += new_hist_x\n",
    "        corr_hists_y[:,i] += new_hist_y\n",
    "\n",
    "    corr_x = np.vstack((corr_x,new_corr_x))\n",
    "    corr_y = np.vstack((corr_y,new_corr_y))\n",
    "\n",
    "\n",
    "corr_median_x = np.median(corr_x,axis=0)\n",
    "corr_median_y = np.median(corr_y,axis=0)\n",
    "\n",
    "corr_mean_x = np.mean(corr_x,axis=0)\n",
    "corr_mean_y = np.mean(corr_y,axis=0)\n",
    "\n",
    "corr_std_x = np.std(corr_x,axis=0)\n",
    "corr_std_y = np.std(corr_y,axis=0)\n",
    "\n",
    "corr_max_x = np.max(corr_x,axis=0)\n",
    "corr_max_y = np.max(corr_x,axis=0)\n",
    "\n",
    "del corr_x, corr_y"
   ]
  },
  {
   "cell_type": "code",
   "execution_count": null,
   "metadata": {},
   "outputs": [],
   "source": [
    "corr_bin_centers = (corr_bin_edges[:-1] + corr_bin_edges[1:])/2\n",
    "corr_bin_width   = .05\n",
    "\n",
    "for i in range(n_templates):\n",
    "    plt.bar(corr_bin_centers,corr_hists_x[:,i],width=corr_bin_width,label=f'X: median {corr_median_x[i]:.2f}',fill=False,edgecolor='b',linewidth=3)\n",
    "    plt.bar(corr_bin_centers,corr_hists_y[:,i],width=corr_bin_width,label=f'Y: median {corr_median_y[i]:.2f}',fill=False,edgecolor='m',linewidth=3)\n",
    "\n",
    "    plt.xlim([0,1])\n",
    "    plt.yscale('log')\n",
    "\n",
    "    plt.xlabel(r'$\\rho$')\n",
    "    plt.ylabel('Counts')\n",
    "\n",
    "    title = f'Template {i}'\n",
    "    plt.title(title)\n",
    "\n",
    "    plt.legend(fontsize=20,frameon=True,framealpha=.8,loc='upper left')\n",
    "    plt.show()"
   ]
  },
  {
   "cell_type": "code",
   "execution_count": null,
   "metadata": {},
   "outputs": [],
   "source": [
    "template_ids = np.arange(n_templates)\n",
    "\n",
    "plt.scatter(template_ids,corr_median_x,marker='^',s=50,color='b',label='X')\n",
    "plt.scatter(template_ids,corr_median_y,marker='v',s=50,color='m',label='Y')\n",
    "\n",
    "plt.xlim([0,100])\n",
    "plt.ylim([0,1])\n",
    "\n",
    "plt.xlabel('Template ID')\n",
    "plt.ylabel(r'Median $\\rho$')\n",
    "\n",
    "plt.legend(frameon=True,framealpha=.8)\n",
    "\n",
    "plt.show()"
   ]
  },
  {
   "cell_type": "code",
   "execution_count": null,
   "metadata": {},
   "outputs": [],
   "source": [
    "idcs_sorted = np.argsort(corr_median_x)[::-1]\n",
    "\n",
    "for idx in idcs_sorted:\n",
    "    print(f'Template {i}: median correlation {corr_median_x[i]}')"
   ]
  },
  {
   "cell_type": "code",
   "execution_count": null,
   "metadata": {},
   "outputs": [],
   "source": [
    "template_ids = np.arange(n_templates)\n",
    "\n",
    "plt.scatter(template_ids,corr_mean_x,marker='^',s=50,color='b',label='X')\n",
    "plt.scatter(template_ids,corr_mean_y,marker='v',s=50,color='m',label='Y')\n",
    "\n",
    "plt.xlim([0,100])\n",
    "plt.ylim([0,1])\n",
    "\n",
    "plt.xlabel('Template ID')\n",
    "plt.ylabel(r'Mean $\\rho$')\n",
    "\n",
    "plt.legend(frameon=True,framealpha=.8)\n",
    "\n",
    "plt.show()"
   ]
  },
  {
   "cell_type": "code",
   "execution_count": null,
   "metadata": {},
   "outputs": [],
   "source": [
    "template_ids = np.arange(n_templates)\n",
    "\n",
    "plt.scatter(template_ids,corr_max_x,marker='^',s=50,color='b',label='X')\n",
    "plt.scatter(template_ids,corr_max_y,marker='v',s=50,color='m',label='Y')\n",
    "\n",
    "plt.xlim([0,100])\n",
    "plt.ylim([0,1.1])\n",
    "\n",
    "plt.xlabel('Template ID')\n",
    "plt.ylabel(r'Maximum $\\rho$')\n",
    "\n",
    "plt.legend(frameon=True,framealpha=.8)\n",
    "\n",
    "plt.show()"
   ]
  },
  {
   "cell_type": "code",
   "execution_count": null,
   "metadata": {},
   "outputs": [],
   "source": [
    "template_ids = np.arange(n_templates)\n",
    "\n",
    "plt.scatter(template_ids,corr_std_x,marker='^',s=50,color='b',label='X')\n",
    "plt.scatter(template_ids,corr_std_y,marker='v',s=50,color='m',label='Y')\n",
    "\n",
    "plt.xlim([0,100])\n",
    "plt.ylim([0,1])\n",
    "\n",
    "plt.xlabel('Template ID')\n",
    "plt.ylabel(r'STD $\\rho$')\n",
    "\n",
    "plt.legend(frameon=True,framealpha=.8)\n",
    "\n",
    "plt.show()"
   ]
  },
  {
   "cell_type": "code",
   "execution_count": null,
   "metadata": {},
   "outputs": [],
   "source": [
    "corr_max_x"
   ]
  },
  {
   "cell_type": "code",
   "execution_count": null,
   "metadata": {},
   "outputs": [],
   "source": [
    "np.sqrt(2)/2"
   ]
  },
  {
   "cell_type": "code",
   "execution_count": null,
   "metadata": {},
   "outputs": [],
   "source": []
  }
 ],
 "metadata": {
  "kernelspec": {
   "display_name": "grandlib_2304",
   "language": "python",
   "name": "python-3.9"
  },
  "language_info": {
   "codemirror_mode": {
    "name": "ipython",
    "version": 3
   },
   "file_extension": ".py",
   "mimetype": "text/x-python",
   "name": "python",
   "nbconvert_exporter": "python",
   "pygments_lexer": "ipython3",
   "version": "3.9.16"
  }
 },
 "nbformat": 4,
 "nbformat_minor": 2
}
