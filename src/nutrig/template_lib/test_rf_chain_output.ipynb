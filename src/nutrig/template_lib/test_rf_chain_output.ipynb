{
 "cells": [
  {
   "cell_type": "code",
   "execution_count": null,
   "metadata": {},
   "outputs": [],
   "source": [
    "# scipy\n",
    "import numpy as np\n",
    "from scipy import signal\n",
    "\n",
    "# matplotlib\n",
    "import matplotlib.pyplot as plt\n",
    "%matplotlib inline\n",
    "\n",
    "# grandlib\n",
    "import grand.dataio.root_trees as rt"
   ]
  },
  {
   "cell_type": "markdown",
   "metadata": {},
   "source": [
    "Compare results of RF chain v1 for `dev_sim2root` and `dev_snonis`"
   ]
  },
  {
   "cell_type": "code",
   "execution_count": null,
   "metadata": {},
   "outputs": [],
   "source": [
    "tvoltage_snonis   = rt.TVoltage('/sps/grand/pcorrea/test/gr_voltage_rfv1_GP300_Xi_Sib_Proton_1.11_71.7_321.7_20694.root')\n",
    "tvoltage_sim2root = rt.TVoltage('/sps/grand/pcorrea/test/gr_voltage_rfv1_GP300_Xi_Sib_Proton_1.11_71.7_321.7_20694_dev_sim2root.root')\n",
    "\n",
    "assert tvoltage_snonis.get_number_of_entries() == tvoltage_sim2root.get_number_of_entries()\n",
    "\n",
    "tvoltage_snonis.get_entry(0)\n",
    "tvoltage_sim2root.get_entry(0)"
   ]
  },
  {
   "cell_type": "code",
   "execution_count": null,
   "metadata": {},
   "outputs": [],
   "source": [
    "trace_snonis   = np.array(tvoltage_snonis.trace)\n",
    "trace_sim2root = np.array(tvoltage_sim2root.trace)\n",
    "\n",
    "for du in tvoltage_snonis.get_list_of_dus()[:2]:\n",
    "    plt.plot(trace_snonis[du][0],label='dev_snonis')\n",
    "\n",
    "    plt.show()"
   ]
  },
  {
   "cell_type": "code",
   "execution_count": null,
   "metadata": {},
   "outputs": [],
   "source": []
  }
 ],
 "metadata": {
  "kernelspec": {
   "display_name": "grandlib_2304",
   "language": "python",
   "name": "python-3.9"
  },
  "language_info": {
   "codemirror_mode": {
    "name": "ipython",
    "version": 3
   },
   "file_extension": ".py",
   "mimetype": "text/x-python",
   "name": "python",
   "nbconvert_exporter": "python",
   "pygments_lexer": "ipython3",
   "version": "3.9.16"
  }
 },
 "nbformat": 4,
 "nbformat_minor": 2
}
