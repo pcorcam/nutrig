{
 "cells": [
  {
   "cell_type": "code",
   "execution_count": null,
   "metadata": {},
   "outputs": [],
   "source": [
    "%matplotlib inline\n",
    "\n",
    "# system\n",
    "import os\n",
    "import importlib\n",
    "import datetime\n",
    "import sys\n",
    "\n",
    "# scipy\n",
    "import numpy as np # type: ignore\n",
    "from scipy import signal # type: ignore\n",
    "\n",
    "# matplotlib\n",
    "import matplotlib.pyplot as plt # type: ignore\n",
    "\n",
    "# grandlib\n",
    "import grand.dataio.root_trees as rt # type: ignore\n",
    "\n",
    "#import tools\n",
    "import database.tools as tools\n",
    "\n",
    "plt.style.use('/pbs/home/p/pcorrea/tools/matplotlib_style_sans-serif.txt')"
   ]
  },
  {
   "cell_type": "code",
   "execution_count": null,
   "metadata": {},
   "outputs": [],
   "source": [
    "du  = 1021\n",
    "th1 = 55\n",
    "th2 = 35\n",
    "sfe = 100 # samples from trace edge\n",
    "\n",
    "title = f'DU: {du}, TH1: {th1}, TH2: {th2}'\n",
    "\n",
    "\n",
    "file = f'/sps/grand/pcorrea/nutrig/database/bkg/pretrigger_thresh_test/trigger_count_du_{du}_th1_{th1}_th2_{th2}_sfe_{sfe}.npz'\n",
    "\n",
    "f = np.load(file)\n",
    "\n",
    "n_entries_trig_file = f['n_entries_trig']\n",
    "n_entries_tot_file  = f['n_entries_tot']\n",
    "du_seconds          = f['du_seconds']\n",
    "files               = f['files']\n",
    "\n",
    "n_trig = n_entries_trig_file.sum()\n",
    "n_tot  = n_entries_tot_file.sum()"
   ]
  },
  {
   "cell_type": "code",
   "execution_count": null,
   "metadata": {},
   "outputs": [],
   "source": [
    "rate_max       = 1e3 # [Hz]\n",
    "time_per_trace = (1024-2*sfe)*2e-9 # [s]\n",
    "time_tot_trace = n_tot*time_per_trace\n",
    "n_trig_max     = int( rate_max*time_tot_trace )\n",
    "\n",
    "n_trig_max, n_trig, n_tot"
   ]
  },
  {
   "cell_type": "code",
   "execution_count": null,
   "metadata": {},
   "outputs": [],
   "source": [
    "seconds_in_day         = 24*3600 # [s]\n",
    "time_recorded_in_day   = time_per_trace * seconds_in_day/10 # 10 second data\n",
    "fraction_time_recorded = time_recorded_in_day/seconds_in_day\n",
    "\n",
    "tz    = datetime.timezone(datetime.timedelta(hours=8)) # UTC+8\n",
    "dates = [datetime.datetime.fromtimestamp(du_second,tz=tz) for du_second in du_seconds]\n",
    "\n",
    "bin_edge_first = int( datetime.datetime(dates[0].year,dates[0].month,dates[0].day,tzinfo=tz).timestamp() ) # [s]\n",
    "bin_edge_last  = int( datetime.datetime(dates[-1].year,dates[-1].month,dates[-1].day,tzinfo=tz).timestamp() ) # [s]\n",
    "\n",
    "bin_width      = seconds_in_day\n",
    "bin_edges      = np.arange(bin_edge_first,bin_edge_last+seconds_in_day+1,seconds_in_day)\n",
    "bin_centers    = (bin_edges[1:] + bin_edges[:-1])/2.\n",
    "\n",
    "hist, bin_edges = np.histogram(du_seconds,bins=bin_edges)"
   ]
  },
  {
   "cell_type": "code",
   "execution_count": null,
   "metadata": {},
   "outputs": [],
   "source": [
    "fig, ax = plt.subplots()\n",
    "\n",
    "ax.bar(bin_centers,np.cumsum(hist),width=bin_width,align='center',color='b',label='GP13 data')\n",
    "ax.axhline(n_trig_max,ls='--',color='k',label='Limit for average 1 kHz rate')\n",
    "\n",
    "xticks      = ax.get_xticks()\n",
    "xticklables = [datetime.datetime.fromtimestamp(xtick,tz=tz).date() for xtick in xticks]\n",
    "\n",
    "ax.set_xticklabels(xticklables)\n",
    "ax.set_ylabel('Cumulative number of triggers')\n",
    "\n",
    "ax.set_title(title)\n",
    "\n",
    "ax.legend(loc='center left')\n",
    "\n",
    "plt.xticks(rotation=45)\n",
    "plt.show()\n",
    "\n",
    "\n",
    "fig, ax = plt.subplots()\n",
    "\n",
    "ax.bar(bin_centers,hist/seconds_in_day/fraction_time_recorded,width=bin_width,align='center',color='b',label='GP13 data')\n",
    "ax.axhline(1000,ls='--',color='k',label='Hardware limit')\n",
    "ax.axhline(np.mean(hist/seconds_in_day/fraction_time_recorded),ls='--',color='r',label='GP13 data average')\n",
    "\n",
    "xticks      = ax.get_xticks()\n",
    "xticklables = [datetime.datetime.fromtimestamp(xtick,tz=tz).date() for xtick in xticks]\n",
    "\n",
    "ax.set_xticklabels(xticklables)\n",
    "ax.set_ylabel('Average pulse rate [Hz]')\n",
    "\n",
    "ax.set_title(title)\n",
    "\n",
    "ax.legend()\n",
    "\n",
    "plt.xticks(rotation=45)\n",
    "plt.show()"
   ]
  },
  {
   "cell_type": "code",
   "execution_count": null,
   "metadata": {},
   "outputs": [],
   "source": [
    "bin_edges       = np.arange(0,24,1)\n",
    "bin_centers     = (bin_edges[1:] + bin_edges[:-1])/2.\n",
    "\n",
    "hist, bin_edges = np.histogram([date.hour for date in dates],bins=bin_edges)\n",
    "\n",
    "\n",
    "fig, ax = plt.subplots()\n",
    "\n",
    "ax.bar(bin_centers,hist,width=1,align='center',color='b',label='GP13 data')\n",
    "\n",
    "ax.set_xlabel('Local time (UTC+8)')\n",
    "ax.set_ylabel('Counts')\n",
    "\n",
    "ax.set_title(title)\n",
    "\n",
    "plt.show()"
   ]
  },
  {
   "cell_type": "code",
   "execution_count": null,
   "metadata": {},
   "outputs": [],
   "source": [
    "fig, ax = plt.subplots()\n",
    "\n",
    "ax.bar(bin_centers,np.cumsum(hist),width=bin_width,align='center',color='b',label='GP13 data')\n",
    "ax.axhline(n_trig_max,ls='--',color='k',label='Limit for average 1 kHz rate')\n",
    "\n",
    "xticks      = ax.get_xticks()\n",
    "xticklables = [datetime.datetime.fromtimestamp(xtick,tz=tz).date() for xtick in xticks]\n",
    "\n",
    "ax.set_xticklabels(xticklables)\n",
    "ax.set_ylabel('Cumulative number of triggers')\n",
    "\n",
    "ax.set_title(title)\n",
    "\n",
    "ax.legend(loc='center left')\n",
    "\n",
    "plt.xticks(rotation=45)\n",
    "plt.show()"
   ]
  },
  {
   "cell_type": "code",
   "execution_count": null,
   "metadata": {},
   "outputs": [],
   "source": [
    "traces = np.zeros( (n_trig,3,1024) )\n",
    "mask   = np.arange(0,1300,13)\n",
    "\n",
    "for i in mask: #n_trig\n",
    "    print(i)\n",
    "    with np.load(files[i]) as f:\n",
    "        mask_trig = np.argwhere( np.logical_and( f['du_ids']==du,f['du_seconds']==du_seconds[i] ) ).flatten()\n",
    "        traces[i] = f['traces'][mask_trig]"
   ]
  },
  {
   "cell_type": "code",
   "execution_count": null,
   "metadata": {},
   "outputs": [],
   "source": [
    "importlib.reload(tools)\n",
    "\n",
    "traces_filtered = tools.filter_traces(traces,freq_highpass=50,freqs_notch=[50.2,55.1,126],bw_notch=[1.,1.,25.]) #freqs_notch=[50.2,55.1,118.8,124.4,134],bw_notch=[1.,1.,2.,3.,10.]\n",
    "fft_filtered    = np.fft.rfft(traces_filtered)\n",
    "freq            = np.fft.rfftfreq(1024,d=1/500)"
   ]
  },
  {
   "cell_type": "code",
   "execution_count": null,
   "metadata": {},
   "outputs": [],
   "source": [
    "for trace,file in zip(traces_filtered[mask[:]],files[mask]):\n",
    "\n",
    "    windows_x, trigger_times_x = tools.search_windows(trace[0],threshold1=th1,threshold2=th2,samples_from_trace_edge=sfe)\n",
    "    windows_y, trigger_times_y = tools.search_windows(trace[1],threshold1=th1,threshold2=th2,samples_from_trace_edge=sfe)\n",
    "\n",
    "    fig, ax = plt.subplots(3,1,sharex=True)\n",
    "\n",
    "    ax[0].plot(trace[0],color='b',label='X')\n",
    "    ax[1].plot(trace[1],color='m',label='Y')\n",
    "    ax[2].plot(trace[2],color='r',label='Z')\n",
    "\n",
    "    if len(trigger_times_x):\n",
    "        ax[0].axvline(trigger_times_x[0],color='k',ls='--')\n",
    "    if len(trigger_times_y):\n",
    "        ax[1].axvline(trigger_times_y[0],color='k',ls='--')\n",
    "\n",
    "    ax[2].set_xlabel('ADC samples')\n",
    "    ax[1].set_ylabel('ADC counts')\n",
    "\n",
    "    ax[0].legend(frameon=True,framealpha=.8)\n",
    "    ax[1].legend(frameon=True,framealpha=.8)\n",
    "    ax[2].legend(frameon=True,framealpha=.8)\n",
    "\n",
    "    ax[0].set_title(os.path.basename(file),fontsize=14)\n",
    "\n",
    "    #plt.xlim([350,500])\n",
    "\n",
    "    plt.show()"
   ]
  },
  {
   "cell_type": "code",
   "execution_count": null,
   "metadata": {},
   "outputs": [],
   "source": [
    "for trace in traces[50:60]:\n",
    "    fig, ax = plt.subplots(3,1,sharex=True)\n",
    "\n",
    "    ax[0].plot(trace[0],color='b',label='X')\n",
    "    ax[1].plot(trace[1],color='m',label='Y')\n",
    "    ax[2].plot(trace[2],color='r',label='Z')\n",
    "\n",
    "    # ax[0].axhline(thresh1,color='k',alpha=.7)\n",
    "    # ax[0].axhline(thresh2,color='k',alpha=.4)\n",
    "    # ax[1].axhline(thresh1,color='k',alpha=.7)\n",
    "    # ax[1].axhline(thresh2,color='k',alpha=.4)\n",
    "\n",
    "    # ax[0].axvline(452,color='g',ls=':',alpha=1)\n",
    "    # ax[0].axvline(452+25,color='orange',ls=':',alpha=1)\n",
    "\n",
    "    ax[2].set_xlabel('ADC samples')\n",
    "    ax[1].set_ylabel('ADC counts')\n",
    "\n",
    "    ax[0].legend(frameon=True,framealpha=.8)\n",
    "    ax[1].legend(frameon=True,framealpha=.8)\n",
    "    ax[2].legend(frameon=True,framealpha=.8)\n",
    "\n",
    "    #plt.xlim([350,500])\n",
    "\n",
    "    plt.show()"
   ]
  },
  {
   "cell_type": "code",
   "execution_count": null,
   "metadata": {},
   "outputs": [],
   "source": [
    "for fft in np.abs(fft_filtered[mask]):\n",
    "    plt.plot(freq,fft[0],color='b',label='X')\n",
    "    plt.plot(freq,fft[1],color='m',label='Y')\n",
    "    #plt.plot(freq,fft[2],color='r',label='Z')\n",
    "    plt.title(freq[np.argmax(fft[0])])\n",
    "    plt.yscale('log')\n",
    "    plt.show()"
   ]
  },
  {
   "cell_type": "code",
   "execution_count": null,
   "metadata": {},
   "outputs": [],
   "source": [
    "np.mean([114,138])"
   ]
  },
  {
   "cell_type": "code",
   "execution_count": null,
   "metadata": {},
   "outputs": [],
   "source": [
    "importlib.reload(tools)\n",
    "\n",
    "traces_filtered = tools.filter_traces(traces,freq_highpass=40,freqs_notch=[50.2,55.1,126],bw_notch=[1.,1.,25.]) #134.2 122.5 freqs_notch=[119.1,125.5,131,137.2],bw_notch=[3.,1.,4.,1.]\n",
    "fft_filtered    = np.fft.rfft(traces_filtered)\n",
    "freq            = np.fft.rfftfreq(1024,d=1/500) #[115,139]"
   ]
  },
  {
   "cell_type": "code",
   "execution_count": null,
   "metadata": {},
   "outputs": [],
   "source": [
    "fft = np.fft.rfft(traces)\n",
    "\n",
    "mean_fft          = np.mean( np.abs(fft[mask]),axis=0 )\n",
    "mean_fft_filtered = np.mean( np.abs(fft_filtered[mask]),axis=0 )\n",
    "\n",
    "fig, ax = plt.subplots()\n",
    "\n",
    "ax.plot(freq,mean_fft[0],color='b',alpha=.2)\n",
    "ax.plot(freq,mean_fft[1],color='m',alpha=.2)\n",
    "ax.plot(freq,mean_fft[2],color='r',alpha=.2)\n",
    "\n",
    "ax.plot(freq,mean_fft_filtered[0],color='b',label='X',alpha=.5)\n",
    "ax.plot(freq,mean_fft_filtered[1],color='m',label='Y',alpha=.5)\n",
    "ax.plot(freq,mean_fft_filtered[2],color='r',label='Z',alpha=.5)\n",
    "\n",
    "ax.set_yscale('log')\n",
    "ax.set_xlabel('Frequency [MHz]')\n",
    "ax.set_ylabel('Mean FFT of pulses [a.u.]')\n",
    "\n",
    "ax.set_title(title)\n",
    "\n",
    "ax.legend()\n",
    "\n",
    "plt.show()"
   ]
  },
  {
   "cell_type": "code",
   "execution_count": null,
   "metadata": {},
   "outputs": [],
   "source": [
    "idx_peak = signal.find_peaks(mean_fft_filtered[0],height=2e3)[0]\n",
    "freq[idx_peak], freq[idx_peak+1]\n"
   ]
  },
  {
   "cell_type": "code",
   "execution_count": null,
   "metadata": {},
   "outputs": [],
   "source": [
    "idx_peak = signal.find_peaks(mean_fft[0],height=1e3)[0]\n",
    "freq[idx_peak]\n"
   ]
  },
  {
   "cell_type": "code",
   "execution_count": null,
   "metadata": {},
   "outputs": [],
   "source": []
  }
 ],
 "metadata": {
  "kernelspec": {
   "display_name": "grandlib_2304",
   "language": "python",
   "name": "python-3.9"
  },
  "language_info": {
   "codemirror_mode": {
    "name": "ipython",
    "version": 3
   },
   "file_extension": ".py",
   "mimetype": "text/x-python",
   "name": "python",
   "nbconvert_exporter": "python",
   "pygments_lexer": "ipython3",
   "version": "3.9.16"
  }
 },
 "nbformat": 4,
 "nbformat_minor": 2
}
