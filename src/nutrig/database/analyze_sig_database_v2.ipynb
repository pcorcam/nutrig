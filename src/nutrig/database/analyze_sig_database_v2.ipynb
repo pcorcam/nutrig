{
 "cells": [
  {
   "cell_type": "code",
   "execution_count": null,
   "id": "407d3423",
   "metadata": {},
   "outputs": [
    {
     "name": "stdout",
     "output_type": "stream",
     "text": [
      "Welcome to JupyROOT 6.30/04\n"
     ]
    },
    {
     "data": {
      "text/plain": [
       "<Logger database.v2.tools (DEBUG)>"
      ]
     },
     "execution_count": 1,
     "metadata": {},
     "output_type": "execute_result"
    }
   ],
   "source": [
    "import os\n",
    "import glob\n",
    "\n",
    "import numpy as np\n",
    "\n",
    "import matplotlib.pyplot as plt\n",
    "\n",
    "import grand.dataio.root_trees as rt\n",
    "\n",
    "import database.tools as tools\n",
    "\n",
    "#plt.style.use('seaborn-v0_8-colorblind')\n",
    "plt.style.use('tableau-colorblind10')\n",
    "plt.style.use('/pbs/home/p/pcorrea/tools/matplotlib_style_sans-serif.txt')\n",
    "\n",
    "%matplotlib inline\n",
    "\n",
    "tools.load_logger('debug')"
   ]
  },
  {
   "cell_type": "code",
   "execution_count": 2,
   "id": "6519ca82",
   "metadata": {},
   "outputs": [],
   "source": [
    "SIM_SOFTWARE = 'ZHAireS'\n",
    "SIM_TAG      = 'DC2.1rc2'\n",
    "TH1          = 45\n",
    "TH2          = 35\n",
    "TQUIET       = 500\n",
    "TPER         = 1000\n",
    "TSEPMAX      = 200\n",
    "NCMIN        = 2#1\n",
    "NCMAX        = 10#7\n",
    "\n",
    "CHANNELS_FLT0_STR = 'XY'\n",
    "MODE_FLT0         = 'OR'\n",
    "\n",
    "N_SAMPLES  = 1024\n",
    "N_CHANNELS = 3\n",
    "\n",
    "PLOT_TITLE = f'T1 = {TH1}, T2 = {TH2}, TQUIET = {TQUIET}, TPER = {TPER}, TSEPMAX = {TSEPMAX}, NCMIN = {NCMIN}, NCMAX = {NCMAX}'\n",
    "PLOT_SUPTITLE = f'{SIM_SOFTWARE} {SIM_TAG}, {CHANNELS_FLT0_STR} mode {MODE_FLT0}'\n",
    "\n",
    "PLOT_COLORS = plt.rcParams['axes.prop_cycle'].by_key()['color']"
   ]
  },
  {
   "cell_type": "code",
   "execution_count": 3,
   "id": "f6eb8122",
   "metadata": {},
   "outputs": [],
   "source": [
    "database_dir    = '/sps/grand/pcorrea/nutrig/database/v2/sig'\n",
    "database_subdir = os.path.join(database_dir,f'{SIM_SOFTWARE}_{SIM_TAG}_CH_{CHANNELS_FLT0_STR}_MODE_{MODE_FLT0}_TH1_{TH1}_TH2_{TH2}_TQUIET_{TQUIET}_TPER_{TPER}_TSEPMAX_{TSEPMAX}_NCMIN_{NCMIN}_NCMAX_{NCMAX}')\n",
    "\n",
    "path_metadata_file = os.path.join(database_subdir,'metadata.npz')\n",
    "\n",
    "database_subdir_filtered = os.path.join(database_subdir,'filtered')\n",
    "database_subdir_raw      = os.path.join(database_subdir,'raw')\n",
    "\n",
    "paths_data_files_filtered = sorted( glob.glob( os.path.join(database_subdir_filtered,'*.npz') ) )\n",
    "paths_data_files_raw      = sorted( glob.glob( os.path.join(database_subdir_raw,'*.npz') ) )"
   ]
  },
  {
   "cell_type": "code",
   "execution_count": 4,
   "id": "a6876fe9",
   "metadata": {},
   "outputs": [
    {
     "name": "stdout",
     "output_type": "stream",
     "text": [
      "dict_trigger_params : {'th1': 45, 'th2': 35, 't_quiet': 500, 't_period': 1000, 't_sepmax': 200, 'nc_min': 2, 'nc_max': 10}\n",
      "root_sim_dir : /sps/grand/DC2.1rc2\n",
      "sim_software : ZHAireS\n",
      "samples_from_edge : 100\n",
      "channel_pol : {0: 'X', 1: 'Y', 2: 'Z'}\n",
      "channels_flt0 : [0 1]\n",
      "mode_flt0 : OR\n"
     ]
    }
   ],
   "source": [
    "with np.load(path_metadata_file,allow_pickle=True) as metadata_file:\n",
    "    for key in metadata_file.keys():\n",
    "        print(f'{key} : {metadata_file[key]}')\n",
    "    channel_pol = metadata_file['channel_pol'].item()\n",
    "    channels_flt0 = metadata_file['channels_flt0']\n",
    "    samples_from_edge = metadata_file['samples_from_edge']"
   ]
  },
  {
   "cell_type": "code",
   "execution_count": 5,
   "id": "ee0cf4f7",
   "metadata": {},
   "outputs": [
    {
     "name": "stdout",
     "output_type": "stream",
     "text": [
      "traces\n",
      "snr\n",
      "t_pulse\n",
      "du_ids\n",
      "du_seconds\n",
      "du_nanoseconds\n",
      "event_number\n",
      "run_number\n",
      "du_xyz\n",
      "primary_type\n",
      "energy_primary\n",
      "zenith\n",
      "azimuth\n",
      "omega\n",
      "omega_c\n",
      "shower_core_pos\n",
      "xmax_pos_shc\n",
      "FLT0_flags\n",
      "FLT0_first_T1_idcs\n",
      "n_FLT0\n"
     ]
    }
   ],
   "source": [
    "path_test_file = paths_data_files_filtered[0]\n",
    "with np.load(path_test_file) as test_file:\n",
    "    for key in test_file.keys():\n",
    "        print(f'{key}')"
   ]
  },
  {
   "cell_type": "code",
   "execution_count": 7,
   "id": "b2ca56cb",
   "metadata": {},
   "outputs": [],
   "source": [
    "traces_filtered = np.zeros((0,N_CHANNELS,N_SAMPLES),dtype=int)\n",
    "snr             = np.zeros((0,))\n",
    "\n",
    "for path_data_file_filtered in paths_data_files_filtered[:]:\n",
    "    with np.load(path_data_file_filtered) as data_file_filtered:\n",
    "        traces_filtered = np.vstack( ( traces_filtered,data_file_filtered['traces'] ) )\n",
    "        snr             = np.hstack( ( snr,data_file_filtered['snr'] ))\n",
    "        "
   ]
  },
  {
   "cell_type": "code",
   "execution_count": 8,
   "id": "7aa709af",
   "metadata": {},
   "outputs": [
    {
     "data": {
      "image/png": "[encoded data removed]",
      "text/plain": [
       "<Figure size 1000x700 with 1 Axes>"
      ]
     },
     "metadata": {},
     "output_type": "display_data"
    }
   ],
   "source": [
    "fig, ax = plt.subplots()\n",
    "\n",
    "ax.hist(snr,bins=np.linspace(2,14,13))\n",
    "\n",
    "ax.set_xlabel('SNR')\n",
    "ax.set_ylabel('Counts')\n",
    "\n",
    "ax.set_title(PLOT_TITLE,fontsize=13)\n",
    "plt.suptitle(PLOT_SUPTITLE)\n",
    "\n",
    "ax.set_yscale('log')\n",
    "\n",
    "plt.show()"
   ]
  },
  {
   "cell_type": "code",
   "execution_count": 63,
   "id": "9c18e21e",
   "metadata": {},
   "outputs": [
    {
     "data": {
      "text/plain": [
       "dtype('float64')"
      ]
     },
     "execution_count": 63,
     "metadata": {},
     "output_type": "execute_result"
    }
   ],
   "source": [
    "traces_filtered.dtype"
   ]
  },
  {
   "cell_type": "code",
   "execution_count": null,
   "id": "9757cc38",
   "metadata": {},
   "outputs": [],
   "source": []
  }
 ],
 "metadata": {
  "kernelspec": {
   "display_name": "grandlib_2409",
   "language": "python",
   "name": "python-3.11_grandlib-2409"
  },
  "language_info": {
   "codemirror_mode": {
    "name": "ipython",
    "version": 3
   },
   "file_extension": ".py",
   "mimetype": "text/x-python",
   "name": "python",
   "nbconvert_exporter": "python",
   "pygments_lexer": "ipython3",
   "version": "3.11.9"
  }
 },
 "nbformat": 4,
 "nbformat_minor": 5
}
