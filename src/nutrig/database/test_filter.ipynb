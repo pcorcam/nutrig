{
 "cells": [
  {
   "cell_type": "code",
   "execution_count": null,
   "metadata": {},
   "outputs": [],
   "source": [
    "%matplotlib inline\n",
    "\n",
    "# system\n",
    "import os\n",
    "import importlib\n",
    "import datetime\n",
    "\n",
    "# scipy\n",
    "import numpy as np # type: ignore\n",
    "from scipy import signal # type: ignore\n",
    "\n",
    "# matplotlib\n",
    "import matplotlib.pyplot as plt # type: ignore\n",
    "\n",
    "# grandlib\n",
    "import grand.dataio.root_trees as rt # type: ignore\n",
    "\n",
    "#import tools\n",
    "import database.tools as tools\n",
    "\n",
    "plt.style.use('tableau-colorblind10')\n",
    "plt.style.use('/pbs/home/p/pcorrea/tools/matplotlib_style_sans-serif.txt')\n",
    "\n",
    "savefig  = True\n",
    "plot_dir = '/pbs/home/p/pcorrea/grand/nutrig/plots'\n",
    "\n",
    "colors = ['b','m','r']"
   ]
  },
  {
   "cell_type": "code",
   "execution_count": null,
   "metadata": {},
   "outputs": [],
   "source": [
    "# root_file = '/sps/grand/data/gp13/GrandRoot/2024/02/GP13_20240208_142053_RUN125_MD_RAW_10s_ChanXYZ_20dB_12DUs_test_103_dat.root'\n",
    "#root_file  = '/sps/grand/data/gp13/GrandRoot/2024/03/GP13_20240319_161913_RUN125_MD_RAW_10s_ChanXYZ_20dB_6DUs_test_067.root'\n",
    "root_file = '/sps/grand/data/gp13/GrandRoot/2024/03/GP13_20240314_041623_RUN125_MD_RAW_10s_ChanXYZ_20dB_11DUs_test_362_dat.root'\n",
    "\n",
    "df   = rt.DataFile(root_file)\n",
    "tadc = df.tadc\n",
    "\n",
    "n_traces = tadc.get_number_of_entries()\n",
    "traces   = np.zeros( (n_traces,3,1024) )\n",
    "\n",
    "for i in range(n_traces):\n",
    "    tadc.get_entry(i)\n",
    "    traces[i] = np.array(tadc.trace_ch[0][1:])"
   ]
  },
  {
   "cell_type": "code",
   "execution_count": null,
   "metadata": {},
   "outputs": [],
   "source": [
    "window = signal.windows.general_gaussian(traces.shape[-1],10,traces.shape[-1]/2.3)\n",
    "plt.plot(window)\n",
    "plt.xlabel('ADC samples of 2 ns')\n",
    "plt.ylabel('Windowing [a.u.]')\n",
    "plt.show()"
   ]
  },
  {
   "cell_type": "code",
   "execution_count": null,
   "metadata": {},
   "outputs": [],
   "source": [
    "fft  = np.fft.rfft(traces)\n",
    "freq = np.fft.rfftfreq(1024,d=1/500)"
   ]
  },
  {
   "cell_type": "code",
   "execution_count": null,
   "metadata": {},
   "outputs": [],
   "source": [
    "importlib.reload(tools)\n",
    "\n",
    "#traces_filtered = tools.filter_traces(traces,freq_highpass=43,freqs_notch=[118.9,132.8,137.8],bw_notch=[3,2.5,1.]) #freqs_notch=[119,133,138] bw_notch=[2.5,2.5,1.]\n",
    "traces_filtered = tools.filter_traces(traces)\n",
    "fft_filtered    = np.fft.rfft(traces_filtered)"
   ]
  },
  {
   "cell_type": "code",
   "execution_count": null,
   "metadata": {},
   "outputs": [],
   "source": [
    "fft_mean          = np.mean(np.abs(fft),axis=0)\n",
    "fft_mean_filtered = np.mean(np.abs(fft_filtered),axis=0)\n",
    "\n",
    "for ch in range(fft_mean.shape[0])[:]:\n",
    "    plt.plot(freq,fft_mean[ch],color=colors[ch],alpha=.3)\n",
    "    plt.plot(freq,fft_mean_filtered[ch],label=f'Channel {ch}',color=colors[ch])\n",
    "\n",
    "plt.yscale('log')\n",
    "plt.xlabel('Frequency [MHz]')\n",
    "plt.ylabel('Mean FFT [a.u.]')\n",
    "plt.legend()\n",
    "plt.title(os.path.basename(root_file),fontsize=14)\n",
    "#plt.xlim([110,120])\n",
    "plt.show()"
   ]
  },
  {
   "cell_type": "code",
   "execution_count": null,
   "metadata": {},
   "outputs": [],
   "source": [
    "rms = np.sqrt( np.mean( traces**2,axis=2 ) )\n",
    "bins = np.arange(0,100)\n",
    "\n",
    "for ch in range(rms.shape[1]):\n",
    "    median = np.median(rms[:,ch])\n",
    "    plt.hist(rms[:,ch],bins=bins,alpha=.5,label=f'Channel {ch} median = {np.round(median,decimals=2)}',color=colors[ch])\n",
    "\n",
    "plt.yscale('log')\n",
    "plt.xlabel('RMS [ADC counts]')\n",
    "plt.ylabel('Counts')\n",
    "plt.title(os.path.basename(root_file),fontsize=14)\n",
    "plt.legend()\n",
    "plt.show()"
   ]
  },
  {
   "cell_type": "code",
   "execution_count": null,
   "metadata": {},
   "outputs": [],
   "source": [
    "rms_filtered = np.sqrt( np.mean( traces_filtered**2,axis=2 ) )\n",
    "bins         = np.arange(0,100)\n",
    "\n",
    "for ch in range(rms_filtered.shape[1]):\n",
    "    median = np.median(rms_filtered[:,ch])\n",
    "    print(np.mean(rms_filtered[:,ch]),np.std(rms_filtered[:,ch]))\n",
    "    plt.hist(rms_filtered[:,ch],bins=bins,alpha=.5,label=f'Channel {ch} median = {np.round(median,decimals=2)}',color=colors[ch])\n",
    "\n",
    "plt.yscale('log')\n",
    "plt.xlabel('RMS [ADC counts]')\n",
    "plt.ylabel('Counts')\n",
    "plt.title(os.path.basename(root_file),fontsize=14)\n",
    "plt.legend()\n",
    "plt.show()"
   ]
  },
  {
   "cell_type": "code",
   "execution_count": null,
   "metadata": {},
   "outputs": [],
   "source": [
    "idx = 400#399\n",
    "\n",
    "tr      = traces[idx]\n",
    "tr_filt = traces_filtered[idx]\n",
    "\n",
    "\n",
    "fig, ax = plt.subplots(3,1,sharex=True)\n",
    "\n",
    "ax[0].plot(tr[0],color='b',label='X')\n",
    "ax[1].plot(tr[1],color='m',label='Y')\n",
    "ax[2].plot(tr[2],color='r',label='Z')\n",
    "\n",
    "ax[2].set_xlabel('ADC samples')\n",
    "ax[1].set_ylabel('ADC counts')\n",
    "\n",
    "ax[0].legend(frameon=True,framealpha=.8)\n",
    "ax[1].legend(frameon=True,framealpha=.8)\n",
    "ax[2].legend(frameon=True,framealpha=.8)\n",
    "\n",
    "plt.suptitle('Original trace',va='top')\n",
    "\n",
    "plt.show()\n",
    "\n",
    "\n",
    "window = signal.windows.general_gaussian(traces.shape[-1],10,traces.shape[-1]/2.3)\n",
    "fig, ax = plt.subplots(3,1,sharex=True)\n",
    "\n",
    "ax[0].plot(tr[0]*window,color='b',label='X')\n",
    "ax[1].plot(tr[1]*window,color='m',label='Y')\n",
    "ax[2].plot(tr[2]*window,color='r',label='Z')\n",
    "\n",
    "ax[2].set_xlabel('ADC samples')\n",
    "ax[1].set_ylabel('ADC counts')\n",
    "\n",
    "ax[0].legend(frameon=True,framealpha=.8)\n",
    "ax[1].legend(frameon=True,framealpha=.8)\n",
    "ax[2].legend(frameon=True,framealpha=.8)\n",
    "\n",
    "plt.suptitle('Windowed trace',va='top')\n",
    "\n",
    "plt.show()\n",
    "\n",
    "\n",
    "fig, ax = plt.subplots(3,1,sharex=True)\n",
    "\n",
    "ax[0].plot(tr_filt[0],color='b',label='X')\n",
    "ax[1].plot(tr_filt[1],color='m',label='Y')\n",
    "ax[2].plot(tr_filt[2],color='r',label='Z')\n",
    "\n",
    "ax[2].set_xlabel('ADC samples')\n",
    "ax[1].set_ylabel('ADC counts')\n",
    "\n",
    "ax[0].legend(frameon=True,framealpha=.8)\n",
    "ax[1].legend(frameon=True,framealpha=.8)\n",
    "ax[2].legend(frameon=True,framealpha=.8)\n",
    "\n",
    "plt.suptitle('Filtered trace',va='top')\n",
    "\n",
    "plt.show()"
   ]
  },
  {
   "cell_type": "code",
   "execution_count": null,
   "metadata": {},
   "outputs": [],
   "source": [
    "fig, ax = plt.subplots()\n",
    "\n",
    "fft_idx          = np.abs(fft[idx])\n",
    "fft_filtered_idx = np.abs(fft_filtered[idx])\n",
    "\n",
    "ax.plot(freq,fft_filtered_idx[0],color='b',label='X',alpha=.5)\n",
    "# ax.plot(freq,fft_filtered_idx[1],color='m',label='Y',alpha=.5)\n",
    "# ax.plot(freq,fft_filtered_idx[2],color='r',label='Z',alpha=.5)\n",
    "\n",
    "ax.plot(freq,fft_idx[0],color='b',label='X',alpha=.2)\n",
    "# ax.plot(freq,fft_idx[1],color='m',label='Y',alpha=.2)\n",
    "# ax.plot(freq,fft_idx[2],color='r',label='Z',alpha=.2)\n",
    "\n",
    "ax.set_yscale('log')\n",
    "\n",
    "ax.set_xlabel('Frequency [MHz]')\n",
    "ax.set_ylabel('FFT [a.u.]')\n",
    "\n",
    "print(freq[np.argmax(fft_idx[0])])\n",
    "\n",
    "plt.show()"
   ]
  },
  {
   "cell_type": "markdown",
   "metadata": {},
   "source": [
    "## Test threshold trigger"
   ]
  },
  {
   "cell_type": "code",
   "execution_count": null,
   "metadata": {},
   "outputs": [],
   "source": [
    "importlib.reload(tools)\n",
    "\n",
    "thresh1 = 35\n",
    "thresh2 = 25 # 60% of th1\n",
    "\n",
    "for i, trace in enumerate(traces_filtered[:300]):\n",
    "    # thresh1 = 3*rms_filtered[i,0]\n",
    "    # thresh2 = 2*rms_filtered[i,0]\n",
    "    print(i)\n",
    "    print(tools.thresh_trigger(trace,threshold1=thresh1,threshold2=thresh2,samples_from_trace_edge=0))"
   ]
  },
  {
   "cell_type": "code",
   "execution_count": null,
   "metadata": {},
   "outputs": [],
   "source": [
    "idx     = 205\n",
    "#tr_filt = traces_filtered[idx]\n",
    "tr_filt = np.abs( traces_filtered[idx] )\n",
    "\n",
    "fig, ax = plt.subplots(3,1,sharex=True)\n",
    "\n",
    "ax[0].plot(tr_filt[0],color='b',label='X')\n",
    "ax[1].plot(tr_filt[1],color='m',label='Y')\n",
    "ax[2].plot(tr_filt[2],color='r',label='Z')\n",
    "\n",
    "ax[0].axhline(thresh1,color='k',alpha=.7)\n",
    "ax[0].axhline(thresh2,color='k',alpha=.4)\n",
    "ax[1].axhline(thresh1,color='k',alpha=.7)\n",
    "ax[1].axhline(thresh2,color='k',alpha=.4)\n",
    "\n",
    "# ax[0].axvline(452,color='g',ls=':',alpha=1)\n",
    "# ax[0].axvline(452+25,color='orange',ls=':',alpha=1)\n",
    "\n",
    "ax[2].set_xlabel('ADC samples')\n",
    "ax[1].set_ylabel('ADC counts')\n",
    "\n",
    "ax[0].legend(frameon=True,framealpha=.8)\n",
    "ax[1].legend(frameon=True,framealpha=.8)\n",
    "ax[2].legend(frameon=True,framealpha=.8)\n",
    "\n",
    "#plt.xlim([350,500])\n",
    "\n",
    "plt.show()"
   ]
  },
  {
   "cell_type": "code",
   "execution_count": null,
   "metadata": {},
   "outputs": [],
   "source": [
    "f = np.load('/sps/grand/pcorrea/nutrig/datasets/sig/rfv2_thresh_30/sig_traces_with_noise_zhaires_proton_rfv2_thresh_30_files_8000_8500_seed_21.npz')\n",
    "\n",
    "traces_sig = f['traces']\n",
    "snr_sig    = f['snr']"
   ]
  },
  {
   "cell_type": "code",
   "execution_count": null,
   "metadata": {},
   "outputs": [],
   "source": [
    "snr_sig[:,1].max()\n",
    "print(snr_sig[4413])"
   ]
  },
  {
   "cell_type": "code",
   "execution_count": null,
   "metadata": {},
   "outputs": [],
   "source": [
    "importlib.reload(tools)\n",
    "\n",
    "thresh1 = 35+1\n",
    "thresh2 = 25+1 # 60% of th1\n",
    "\n",
    "for i,trace in enumerate(traces_sig[0:1000]):\n",
    "    if snr_sig[i,0]>=4 and snr_sig[i,0]<4.2:\n",
    "        print(i,snr_sig[i])\n",
    "        print(tools.thresh_trigger(trace,thresh1=thresh1,thresh2=thresh2))"
   ]
  },
  {
   "cell_type": "code",
   "execution_count": null,
   "metadata": {},
   "outputs": [],
   "source": [
    "idx    = 147\n",
    "tr_sig = traces_sig[idx]\n",
    "tr_sig = np.abs( traces_sig[idx] )\n",
    "\n",
    "fig, ax = plt.subplots(3,1,sharex=True)\n",
    "\n",
    "ax[0].plot(tr_sig[0],color='b',label='X')\n",
    "ax[1].plot(tr_sig[1],color='m',label='Y')\n",
    "ax[2].plot(tr_sig[2],color='r',label='Z')\n",
    "\n",
    "ax[0].axhline(thresh1,color='k',alpha=.7)\n",
    "ax[0].axhline(thresh2,color='k',alpha=.4)\n",
    "ax[1].axhline(thresh1,color='k',alpha=.7)\n",
    "ax[1].axhline(thresh2,color='k',alpha=.4)\n",
    "\n",
    "# ax[0].axvline(469,color='g',ls=':',alpha=1)\n",
    "# ax[0].axvline(469+25,color='orange',ls=':',alpha=1)\n",
    "\n",
    "ax[2].set_xlabel('ADC samples')\n",
    "ax[1].set_ylabel('ADC counts')\n",
    "\n",
    "ax[0].legend(frameon=True,framealpha=.8)\n",
    "ax[1].legend(frameon=True,framealpha=.8)\n",
    "ax[2].legend(frameon=True,framealpha=.8)\n",
    "\n",
    "#plt.xlim([600,700])\n",
    "\n",
    "plt.show()"
   ]
  },
  {
   "cell_type": "code",
   "execution_count": null,
   "metadata": {},
   "outputs": [],
   "source": []
  },
  {
   "cell_type": "markdown",
   "metadata": {},
   "source": [
    "### Estimate threshold for a given trigger rate"
   ]
  },
  {
   "cell_type": "code",
   "execution_count": null,
   "metadata": {},
   "outputs": [],
   "source": [
    "trace_length = 1024*2 # [ns]\n",
    "trigger_rate = 1e3 # [Hz]\n",
    "\n",
    "data_taking_fraction_MD = trace_length / 1e10 # for 10s = 10^10 ns forced-trigger MD data\n",
    "\n",
    "trigger_rate_MD = trigger_rate * data_taking_fraction_MD\n",
    "\n",
    "trigger_rate_MD"
   ]
  },
  {
   "cell_type": "code",
   "execution_count": null,
   "metadata": {},
   "outputs": [],
   "source": [
    "#root_file = '/sps/grand/data/gp13/GrandRoot/2024/02/GP13_20240208_142053_RUN125_MD_RAW_10s_ChanXYZ_20dB_12DUs_test_103_dat.root'\n",
    "#root_file  = '/sps/grand/data/gp13/GrandRoot/2024/03/GP13_20240319_161913_RUN125_MD_RAW_10s_ChanXYZ_20dB_6DUs_test_067.root'\n",
    "root_file = '/sps/grand/data/gp13/GrandRoot/2024/03/GP13_20240314_041623_RUN125_MD_RAW_10s_ChanXYZ_20dB_11DUs_test_362_dat.root'\n",
    "\n",
    "df   = rt.DataFile(root_file)\n",
    "tadc = df.tadc\n",
    "\n",
    "n_traces = tadc.get_number_of_entries()\n",
    "traces   = np.zeros( (n_traces,3,1024) )\n",
    "du_ids   = np.zeros( (n_traces) )\n",
    "\n",
    "for i in range(n_traces):\n",
    "    tadc.get_entry(i)\n",
    "\n",
    "    traces[i] = np.array(tadc.trace_ch[0][1:])\n",
    "    du_ids[i] = tadc.du_id[0]"
   ]
  },
  {
   "cell_type": "code",
   "execution_count": null,
   "metadata": {},
   "outputs": [],
   "source": [
    "tadc.get_entry(0)\n",
    "start_time = datetime.datetime.fromtimestamp(tadc.gps_time[0],tz=datetime.timezone(datetime.timedelta(hours=8)))\n",
    "tadc.get_entry(tadc.get_number_of_entries()-1)\n",
    "end_time   = datetime.datetime.fromtimestamp(tadc.gps_time[0],tz=datetime.timezone(datetime.timedelta(hours=8)))\n",
    "\n",
    "end_time-start_time"
   ]
  },
  {
   "cell_type": "code",
   "execution_count": null,
   "metadata": {},
   "outputs": [],
   "source": [
    "fft  = np.fft.rfft(traces)\n",
    "freq = np.fft.rfftfreq(traces.shape[-1],d=1/500)\n",
    "rms  = np.sqrt( np.mean(traces**2,axis=2) )\n",
    "\n",
    "psd_norm  = 1. / traces.shape[-1]**2 / np.diff(freq)[0] # [MHz^-1]"
   ]
  },
  {
   "cell_type": "code",
   "execution_count": null,
   "metadata": {},
   "outputs": [],
   "source": [
    "traces_filtered = tools.filter_traces(traces)#tools.filter_traces(traces,freq_highpass=43,freqs_notch=[118.9,132.8,137.8],bw_notch=[3,2.5,1.]) #freqs_notch=[119,133,138] bw_notch=[2.5,2.5,1.]\n",
    "fft_filtered    = np.fft.rfft(traces_filtered)\n",
    "rms_filtered    = np.sqrt( np.mean(traces_filtered**2,axis=2) )\n",
    "\n",
    "colors   = ['b','m','r']\n",
    "channels = ['X','Y','Z']"
   ]
  },
  {
   "cell_type": "code",
   "execution_count": null,
   "metadata": {},
   "outputs": [],
   "source": [
    "mask_dict = {du : np.zeros(du_ids.shape,dtype=bool) for du in tadc.get_list_of_dus()}\n",
    "\n",
    "for i, du in enumerate(du_ids):\n",
    "    mask_dict[du][i] = True"
   ]
  },
  {
   "cell_type": "code",
   "execution_count": null,
   "metadata": {},
   "outputs": [],
   "source": [
    "for du in mask_dict.keys():\n",
    "    mean_fft_du          = np.mean( np.abs( fft[ mask_dict[du] ]**2 ),axis=0 )\n",
    "    mean_fft_du_filtered = np.mean( np.abs( fft_filtered[ mask_dict[du] ]**2 ),axis=0 )\n",
    "\n",
    "    for ch in range(mean_fft_du.shape[0]):\n",
    "        plt.plot(freq,psd_norm*mean_fft_du[ch]*1e-12,alpha=.2,label=f'{channels[ch]} raw',color=colors[ch])\n",
    "        \n",
    "    for ch in range(mean_fft_du.shape[0]):\n",
    "        plt.plot(freq,psd_norm*mean_fft_du_filtered[ch]*1e-12,alpha=.5,label=f'{channels[ch]} filtered',color=colors[ch])\n",
    "\n",
    "    plt.axvspan(0,50,color='grey',alpha=.3)\n",
    "\n",
    "    plt.yscale('log')\n",
    "    plt.ylim(1e-16,1e-8)\n",
    "    \n",
    "    plt.xlabel('Frequency [MHz]')\n",
    "    plt.ylabel(r'Mean PSD [$\\mathrm{V^2~ MHz^{-1}}$]')\n",
    "    # title = r'\\texttt{' + os.path.basename(root_file) + r'}' + f': DU {du}'\n",
    "    # plt.title(title,fontsize=13)\n",
    "\n",
    "    plt.text(151,4e-16,'GRAND preliminary', color='crimson')\n",
    "\n",
    "    title = f'DU {du} spectrum on {start_time.date()} between {start_time.time()}--{end_time.time()} UTC+8'\n",
    "    plt.title(title,fontsize=20)\n",
    "\n",
    "    plt.legend(frameon=True,framealpha=.8,fontsize=22)\n",
    "\n",
    "    if savefig:\n",
    "        plot_name = f'psd_du_{du}_{start_time.date()}_{start_time.time()}' #+ param_str\n",
    "        \n",
    "        plt.savefig( os.path.join(plot_dir,plot_name+'.png') )\n",
    "        plt.savefig( os.path.join(plot_dir,plot_name+'.pdf') )\n",
    "\n",
    "    plt.show()"
   ]
  },
  {
   "cell_type": "code",
   "execution_count": null,
   "metadata": {},
   "outputs": [],
   "source": [
    "bins = np.arange(0,100)\n",
    "\n",
    "for du in mask_dict.keys():\n",
    "    rms_du = rms[ mask_dict[du] ]\n",
    "\n",
    "    for ch in range(rms_du.shape[1]):\n",
    "        median = np.median(rms_du[:,ch])\n",
    "        plt.hist(rms_du[:,ch],bins=bins,label=f'{channels[ch]} raw: median = {np.round(median,decimals=2)}',color=colors[ch],histtype='step',linewidth=2)\n",
    "\n",
    "    rms_filt_du = rms_filtered[ mask_dict[du] ]\n",
    "\n",
    "    for ch in range(rms_filt_du.shape[1]):\n",
    "        median_filt = np.median(rms_filt_du[:,ch])\n",
    "        plt.hist(rms_filt_du[:,ch],bins=bins,alpha=.5,label=f'{channels[ch]} filtered: median = {np.round(median_filt,decimals=2)}',color=colors[ch])\n",
    "\n",
    "    plt.yscale('log')\n",
    "    plt.xlim([0,100])\n",
    "    plt.xlabel('RMS [ADC counts]')\n",
    "    plt.ylabel('Counts')\n",
    "\n",
    "\n",
    "    # title = r'\\texttt{' + os.path.basename(root_file) + r'}' + f': DU {du}'\n",
    "    # plt.title(title,fontsize=13)\n",
    "\n",
    "    plt.text(55,2.5e1,'GRAND preliminary', color='crimson')\n",
    "\n",
    "    title = f'DU {du} RMS on {start_time.date()} between {start_time.time()}--{end_time.time()} UTC+8'\n",
    "    plt.title(title,fontsize=20)\n",
    "\n",
    "    plt.legend(fontsize=15)\n",
    "\n",
    "    if savefig:\n",
    "        plot_name = f'rms_du_{du}_{start_time.date()}_{start_time.time()}' #+ param_str\n",
    "        \n",
    "        plt.savefig( os.path.join(plot_dir,plot_name+'.png') )\n",
    "        plt.savefig( os.path.join(plot_dir,plot_name+'.pdf') )\n",
    "\n",
    "    plt.show()"
   ]
  },
  {
   "cell_type": "code",
   "execution_count": null,
   "metadata": {},
   "outputs": [],
   "source": [
    "importlib.reload(tools)\n",
    "\n",
    "npz_file = '/sps/grand/pcorrea/nutrig/datasets/bkg/gp13_raw/GP13_20240301_085053_RUN125_MD_RAW_10s_ChanXYZ_20dB_11DUs_test_137_dat.npz'\n",
    "\n",
    "f = np.load(npz_file)\n",
    "\n",
    "tools.get_masks_du(f['du_ids'])"
   ]
  },
  {
   "cell_type": "code",
   "execution_count": null,
   "metadata": {},
   "outputs": [],
   "source": [
    "x = np.arange(20240116,20240131+1)\n",
    "x = np.hstack( (x, np.arange(20240201,20240229+1) ) )\n",
    "x = np.hstack( (x, np.arange(20240301,20240331+1) ) )\n",
    "x = np.hstack( (x, np.arange(20240401,20240430+1) ) )\n",
    "\n",
    "np.hstack((x[::5],x[-1]))"
   ]
  },
  {
   "cell_type": "code",
   "execution_count": null,
   "metadata": {},
   "outputs": [],
   "source": [
    "root_files[1000]"
   ]
  },
  {
   "cell_type": "code",
   "execution_count": null,
   "metadata": {},
   "outputs": [],
   "source": [
    "f = np.load('./GP13_20240301_174613_RUN125_MD_RAW_10s_ChanXYZ_20dB_11DUs_test_144_dat.npz')"
   ]
  },
  {
   "cell_type": "code",
   "execution_count": null,
   "metadata": {},
   "outputs": [],
   "source": [
    "x = np.arange(4)\n",
    "x = x[:-1]\n",
    "x"
   ]
  },
  {
   "cell_type": "code",
   "execution_count": null,
   "metadata": {},
   "outputs": [],
   "source": [
    "n_max = 509*1.648e-6*1e3\n",
    "n_max"
   ]
  },
  {
   "cell_type": "code",
   "execution_count": null,
   "metadata": {},
   "outputs": [],
   "source": []
  }
 ],
 "metadata": {
  "kernelspec": {
   "display_name": "grandlib_2409",
   "language": "python",
   "name": "python-3.11_grandlib-2409"
  },
  "language_info": {
   "codemirror_mode": {
    "name": "ipython",
    "version": 3
   },
   "file_extension": ".py",
   "mimetype": "text/x-python",
   "name": "python",
   "nbconvert_exporter": "python",
   "pygments_lexer": "ipython3",
   "version": "3.11.9"
  }
 },
 "nbformat": 4,
 "nbformat_minor": 2
}
